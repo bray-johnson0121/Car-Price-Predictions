{
 "cells": [
  {
   "cell_type": "markdown",
   "metadata": {},
   "source": [
    "Analysis Discussion\n",
    "1. The columns that had an even distribution were the 'mileage' and 'count' columns. Viewing the histograms, it can be seen that there are not multiple peaks throughout, but instead a semi-smooth graph. \n",
    "2. In this particular dataset there were not any missing values however, to check for this I used a for loop to iterate through the columns of the dataframe. Each iterations summed the amount of N/A values in the column and printed them out. If there were N/A values, I would insert the average for numerical values and for categorical values I would have inserted the most common name.\n",
    "3. To code the categorical data, I used one-hot encoding and label encoding. The two columns that I used label encoding on were 'condition' and 'year'.\n",
    "For these columns there was an apparent order which allowed for label encoding. For example, to simplify this process 'used' was encoded as '0' and 'new' was encoded as '1'. For the other three columns that did not have an apparent order I used one hot encoding to encode the data within the columns.\n",
    "4. In this particular dataset, there were not any outliers. To be sure of this I used boxplots to show any outliers that might have been in the data. If there were any outliers I would have used IQR to remove them.\n",
    "5. For this data I chose to normalize the data. I chose normalization since the values have a known range. \n",
    "6. When using a regressiong model, each model performed well considering the given data. The R squared model performed with a score of '-0.0006348', the Root Mean Squared error performed with a score of '0.083' and finally the Mean Absolute Error performed with a score of '0.249'. I would say that the Root Mean Square Error performed the best.\n",
    "7. The Root Mean Squared Error and the Mean Absolute Error models seemed to perform similarly when using the testing and the training set. However, the R Squared seemed to overfit the data. With a score of roughly '0.0006' on the training set and '-0.0006' on the testing set. This model seemed to have a little variance in the training.\n",
    "\n"
   ]
  },
  {
   "cell_type": "markdown",
   "metadata": {},
   "source": [
    "1. Dataset Link: https://www.kaggle.com/datasets/zain280/car-dataset\n",
    "2. Github Link: "
   ]
  },
  {
   "cell_type": "code",
   "execution_count": 1,
   "metadata": {},
   "outputs": [],
   "source": [
    "import pandas as pd\n",
    "import matplotlib.pyplot as plt\n",
    "import numpy as np"
   ]
  },
  {
   "cell_type": "code",
   "execution_count": 2,
   "metadata": {},
   "outputs": [
    {
     "data": {
      "text/html": [
       "<div>\n",
       "<style scoped>\n",
       "    .dataframe tbody tr th:only-of-type {\n",
       "        vertical-align: middle;\n",
       "    }\n",
       "\n",
       "    .dataframe tbody tr th {\n",
       "        vertical-align: top;\n",
       "    }\n",
       "\n",
       "    .dataframe thead th {\n",
       "        text-align: right;\n",
       "    }\n",
       "</style>\n",
       "<table border=\"1\" class=\"dataframe\">\n",
       "  <thead>\n",
       "    <tr style=\"text-align: right;\">\n",
       "      <th></th>\n",
       "      <th>ID</th>\n",
       "      <th>Brand</th>\n",
       "      <th>Model</th>\n",
       "      <th>Year</th>\n",
       "      <th>Color</th>\n",
       "      <th>Mileage</th>\n",
       "      <th>Price</th>\n",
       "      <th>Condition</th>\n",
       "    </tr>\n",
       "  </thead>\n",
       "  <tbody>\n",
       "    <tr>\n",
       "      <th>0</th>\n",
       "      <td>1</td>\n",
       "      <td>Mazda</td>\n",
       "      <td>Generic Model 3</td>\n",
       "      <td>2003</td>\n",
       "      <td>Blue</td>\n",
       "      <td>22932</td>\n",
       "      <td>65732</td>\n",
       "      <td>New</td>\n",
       "    </tr>\n",
       "    <tr>\n",
       "      <th>1</th>\n",
       "      <td>2</td>\n",
       "      <td>Jaguar</td>\n",
       "      <td>Generic Model 2</td>\n",
       "      <td>2003</td>\n",
       "      <td>Silver</td>\n",
       "      <td>89937</td>\n",
       "      <td>58620</td>\n",
       "      <td>New</td>\n",
       "    </tr>\n",
       "    <tr>\n",
       "      <th>2</th>\n",
       "      <td>3</td>\n",
       "      <td>Land Rover</td>\n",
       "      <td>Generic Model 2</td>\n",
       "      <td>2022</td>\n",
       "      <td>Green</td>\n",
       "      <td>36616</td>\n",
       "      <td>50574</td>\n",
       "      <td>New</td>\n",
       "    </tr>\n",
       "    <tr>\n",
       "      <th>3</th>\n",
       "      <td>4</td>\n",
       "      <td>Porsche</td>\n",
       "      <td>Generic Model 2</td>\n",
       "      <td>1997</td>\n",
       "      <td>Black</td>\n",
       "      <td>82812</td>\n",
       "      <td>35436</td>\n",
       "      <td>Used</td>\n",
       "    </tr>\n",
       "    <tr>\n",
       "      <th>4</th>\n",
       "      <td>5</td>\n",
       "      <td>Land Rover</td>\n",
       "      <td>Generic Model 3</td>\n",
       "      <td>2000</td>\n",
       "      <td>Black</td>\n",
       "      <td>184616</td>\n",
       "      <td>63880</td>\n",
       "      <td>Used</td>\n",
       "    </tr>\n",
       "  </tbody>\n",
       "</table>\n",
       "</div>"
      ],
      "text/plain": [
       "   ID       Brand            Model  Year   Color  Mileage  Price Condition\n",
       "0   1       Mazda  Generic Model 3  2003    Blue    22932  65732       New\n",
       "1   2      Jaguar  Generic Model 2  2003  Silver    89937  58620       New\n",
       "2   3  Land Rover  Generic Model 2  2022   Green    36616  50574       New\n",
       "3   4     Porsche  Generic Model 2  1997   Black    82812  35436      Used\n",
       "4   5  Land Rover  Generic Model 3  2000   Black   184616  63880      Used"
      ]
     },
     "execution_count": 2,
     "metadata": {},
     "output_type": "execute_result"
    }
   ],
   "source": [
    "rawDF = pd.read_csv(\"Car_Data.csv\")\n",
    "\n",
    "rawDF.head()"
   ]
  },
  {
   "cell_type": "code",
   "execution_count": 3,
   "metadata": {},
   "outputs": [
    {
     "data": {
      "text/html": [
       "<div>\n",
       "<style scoped>\n",
       "    .dataframe tbody tr th:only-of-type {\n",
       "        vertical-align: middle;\n",
       "    }\n",
       "\n",
       "    .dataframe tbody tr th {\n",
       "        vertical-align: top;\n",
       "    }\n",
       "\n",
       "    .dataframe thead th {\n",
       "        text-align: right;\n",
       "    }\n",
       "</style>\n",
       "<table border=\"1\" class=\"dataframe\">\n",
       "  <thead>\n",
       "    <tr style=\"text-align: right;\">\n",
       "      <th></th>\n",
       "      <th>ID</th>\n",
       "      <th>Year</th>\n",
       "      <th>Mileage</th>\n",
       "      <th>Price</th>\n",
       "    </tr>\n",
       "  </thead>\n",
       "  <tbody>\n",
       "    <tr>\n",
       "      <th>count</th>\n",
       "      <td>100000.000000</td>\n",
       "      <td>100000.00000</td>\n",
       "      <td>100000.000000</td>\n",
       "      <td>100000.000000</td>\n",
       "    </tr>\n",
       "    <tr>\n",
       "      <th>mean</th>\n",
       "      <td>50000.500000</td>\n",
       "      <td>2006.03409</td>\n",
       "      <td>99819.395000</td>\n",
       "      <td>42534.519370</td>\n",
       "    </tr>\n",
       "    <tr>\n",
       "      <th>std</th>\n",
       "      <td>28867.657797</td>\n",
       "      <td>9.52722</td>\n",
       "      <td>57710.087058</td>\n",
       "      <td>21632.296692</td>\n",
       "    </tr>\n",
       "    <tr>\n",
       "      <th>min</th>\n",
       "      <td>1.000000</td>\n",
       "      <td>1990.00000</td>\n",
       "      <td>2.000000</td>\n",
       "      <td>5000.000000</td>\n",
       "    </tr>\n",
       "    <tr>\n",
       "      <th>25%</th>\n",
       "      <td>25000.750000</td>\n",
       "      <td>1998.00000</td>\n",
       "      <td>49996.250000</td>\n",
       "      <td>23826.750000</td>\n",
       "    </tr>\n",
       "    <tr>\n",
       "      <th>50%</th>\n",
       "      <td>50000.500000</td>\n",
       "      <td>2006.00000</td>\n",
       "      <td>99807.000000</td>\n",
       "      <td>42563.500000</td>\n",
       "    </tr>\n",
       "    <tr>\n",
       "      <th>75%</th>\n",
       "      <td>75000.250000</td>\n",
       "      <td>2014.00000</td>\n",
       "      <td>149841.250000</td>\n",
       "      <td>61197.500000</td>\n",
       "    </tr>\n",
       "    <tr>\n",
       "      <th>max</th>\n",
       "      <td>100000.000000</td>\n",
       "      <td>2022.00000</td>\n",
       "      <td>199998.000000</td>\n",
       "      <td>80000.000000</td>\n",
       "    </tr>\n",
       "  </tbody>\n",
       "</table>\n",
       "</div>"
      ],
      "text/plain": [
       "                  ID          Year        Mileage          Price\n",
       "count  100000.000000  100000.00000  100000.000000  100000.000000\n",
       "mean    50000.500000    2006.03409   99819.395000   42534.519370\n",
       "std     28867.657797       9.52722   57710.087058   21632.296692\n",
       "min         1.000000    1990.00000       2.000000    5000.000000\n",
       "25%     25000.750000    1998.00000   49996.250000   23826.750000\n",
       "50%     50000.500000    2006.00000   99807.000000   42563.500000\n",
       "75%     75000.250000    2014.00000  149841.250000   61197.500000\n",
       "max    100000.000000    2022.00000  199998.000000   80000.000000"
      ]
     },
     "execution_count": 3,
     "metadata": {},
     "output_type": "execute_result"
    }
   ],
   "source": [
    "rawDF.describe()\n",
    "\n"
   ]
  },
  {
   "cell_type": "code",
   "execution_count": 4,
   "metadata": {},
   "outputs": [
    {
     "name": "stdout",
     "output_type": "stream",
     "text": [
      "The number of na values in the ID col is 0\n",
      "The number of na values in the Brand col is 0\n",
      "The number of na values in the Model col is 0\n",
      "The number of na values in the Year col is 0\n",
      "The number of na values in the Color col is 0\n",
      "The number of na values in the Mileage col is 0\n",
      "The number of na values in the Price col is 0\n",
      "The number of na values in the Condition col is 0\n"
     ]
    }
   ],
   "source": [
    "for col in rawDF:\n",
    "    naCount = rawDF[col].isna().sum()\n",
    "    print(f'The number of na values in the {col} col is {naCount}')"
   ]
  },
  {
   "cell_type": "code",
   "execution_count": 5,
   "metadata": {},
   "outputs": [
    {
     "data": {
      "text/plain": [
       "ID            int64\n",
       "Brand        object\n",
       "Model        object\n",
       "Year          int64\n",
       "Color        object\n",
       "Mileage       int64\n",
       "Price         int64\n",
       "Condition    object\n",
       "dtype: object"
      ]
     },
     "execution_count": 5,
     "metadata": {},
     "output_type": "execute_result"
    }
   ],
   "source": [
    "rawDF.dtypes"
   ]
  },
  {
   "cell_type": "code",
   "execution_count": 6,
   "metadata": {},
   "outputs": [],
   "source": [
    "cleanedDF = rawDF.drop('ID', axis=1)\n"
   ]
  },
  {
   "cell_type": "code",
   "execution_count": 7,
   "metadata": {},
   "outputs": [
    {
     "data": {
      "text/html": [
       "<div>\n",
       "<style scoped>\n",
       "    .dataframe tbody tr th:only-of-type {\n",
       "        vertical-align: middle;\n",
       "    }\n",
       "\n",
       "    .dataframe tbody tr th {\n",
       "        vertical-align: top;\n",
       "    }\n",
       "\n",
       "    .dataframe thead th {\n",
       "        text-align: right;\n",
       "    }\n",
       "</style>\n",
       "<table border=\"1\" class=\"dataframe\">\n",
       "  <thead>\n",
       "    <tr style=\"text-align: right;\">\n",
       "      <th></th>\n",
       "      <th>Brand</th>\n",
       "      <th>Model</th>\n",
       "      <th>Year</th>\n",
       "      <th>Color</th>\n",
       "      <th>Mileage</th>\n",
       "      <th>Price</th>\n",
       "      <th>Condition</th>\n",
       "    </tr>\n",
       "  </thead>\n",
       "  <tbody>\n",
       "    <tr>\n",
       "      <th>0</th>\n",
       "      <td>Mazda</td>\n",
       "      <td>Generic Model 3</td>\n",
       "      <td>2003</td>\n",
       "      <td>Blue</td>\n",
       "      <td>22932</td>\n",
       "      <td>65732</td>\n",
       "      <td>New</td>\n",
       "    </tr>\n",
       "    <tr>\n",
       "      <th>1</th>\n",
       "      <td>Jaguar</td>\n",
       "      <td>Generic Model 2</td>\n",
       "      <td>2003</td>\n",
       "      <td>Silver</td>\n",
       "      <td>89937</td>\n",
       "      <td>58620</td>\n",
       "      <td>New</td>\n",
       "    </tr>\n",
       "    <tr>\n",
       "      <th>2</th>\n",
       "      <td>Land Rover</td>\n",
       "      <td>Generic Model 2</td>\n",
       "      <td>2022</td>\n",
       "      <td>Green</td>\n",
       "      <td>36616</td>\n",
       "      <td>50574</td>\n",
       "      <td>New</td>\n",
       "    </tr>\n",
       "    <tr>\n",
       "      <th>3</th>\n",
       "      <td>Porsche</td>\n",
       "      <td>Generic Model 2</td>\n",
       "      <td>1997</td>\n",
       "      <td>Black</td>\n",
       "      <td>82812</td>\n",
       "      <td>35436</td>\n",
       "      <td>Used</td>\n",
       "    </tr>\n",
       "    <tr>\n",
       "      <th>4</th>\n",
       "      <td>Land Rover</td>\n",
       "      <td>Generic Model 3</td>\n",
       "      <td>2000</td>\n",
       "      <td>Black</td>\n",
       "      <td>184616</td>\n",
       "      <td>63880</td>\n",
       "      <td>Used</td>\n",
       "    </tr>\n",
       "  </tbody>\n",
       "</table>\n",
       "</div>"
      ],
      "text/plain": [
       "        Brand            Model  Year   Color  Mileage  Price Condition\n",
       "0       Mazda  Generic Model 3  2003    Blue    22932  65732       New\n",
       "1      Jaguar  Generic Model 2  2003  Silver    89937  58620       New\n",
       "2  Land Rover  Generic Model 2  2022   Green    36616  50574       New\n",
       "3     Porsche  Generic Model 2  1997   Black    82812  35436      Used\n",
       "4  Land Rover  Generic Model 3  2000   Black   184616  63880      Used"
      ]
     },
     "execution_count": 7,
     "metadata": {},
     "output_type": "execute_result"
    }
   ],
   "source": [
    "cleanedDF.head()"
   ]
  },
  {
   "cell_type": "code",
   "execution_count": 8,
   "metadata": {},
   "outputs": [],
   "source": [
    "categoricalCol = [\"Brand\",\"Model\",\"Color\",\"Condition\", \"Year\"]\n",
    "numericalCol = [\"Mileage\",\"Price\"]"
   ]
  },
  {
   "cell_type": "code",
   "execution_count": 9,
   "metadata": {},
   "outputs": [],
   "source": [
    "# Function to make Bar graphs for the specified columns\n",
    "def makeBarValueCount(aDF, colName):\n",
    "    aDF[colName].value_counts().plot(kind='bar', figsize=(7, 6))\n",
    "    plt.xlabel(colName, labelpad=14)\n",
    "    plt.ylabel(\"Count\", labelpad=14)\n",
    "    plt.title(f\"The Count in the {colName} Column\")"
   ]
  },
  {
   "cell_type": "code",
   "execution_count": 10,
   "metadata": {},
   "outputs": [
    {
     "data": {
      "image/png": "[encoded data removed]",
      "text/plain": [
       "<Figure size 700x600 with 1 Axes>"
      ]
     },
     "metadata": {},
     "output_type": "display_data"
    }
   ],
   "source": [
    "makeBarValueCount(cleanedDF, 'Brand')"
   ]
  },
  {
   "cell_type": "code",
   "execution_count": 11,
   "metadata": {},
   "outputs": [
    {
     "data": {
      "image/png": "[encoded data removed]",
      "text/plain": [
       "<Figure size 700x600 with 1 Axes>"
      ]
     },
     "metadata": {},
     "output_type": "display_data"
    }
   ],
   "source": [
    "makeBarValueCount(cleanedDF, 'Model')"
   ]
  },
  {
   "cell_type": "code",
   "execution_count": 12,
   "metadata": {},
   "outputs": [
    {
     "data": {
      "image/png": "[encoded data removed]",
      "text/plain": [
       "<Figure size 700x600 with 1 Axes>"
      ]
     },
     "metadata": {},
     "output_type": "display_data"
    }
   ],
   "source": [
    "makeBarValueCount(cleanedDF, 'Color')"
   ]
  },
  {
   "cell_type": "code",
   "execution_count": 13,
   "metadata": {},
   "outputs": [
    {
     "data": {
      "image/png": "[encoded data removed]",
      "text/plain": [
       "<Figure size 700x600 with 1 Axes>"
      ]
     },
     "metadata": {},
     "output_type": "display_data"
    }
   ],
   "source": [
    "makeBarValueCount(cleanedDF, 'Condition')"
   ]
  },
  {
   "cell_type": "code",
   "execution_count": 14,
   "metadata": {},
   "outputs": [
    {
     "data": {
      "image/png": "[encoded data removed]",
      "text/plain": [
       "<Figure size 700x600 with 1 Axes>"
      ]
     },
     "metadata": {},
     "output_type": "display_data"
    }
   ],
   "source": [
    "makeBarValueCount(cleanedDF, 'Year')\n"
   ]
  },
  {
   "cell_type": "code",
   "execution_count": 15,
   "metadata": {},
   "outputs": [],
   "source": [
    "# Function to make Histograms for the specified columns\n",
    "def makeHistValueCount(aDF, colName):\n",
    "    aDF[colName].plot(kind='hist', figsize=(7, 6))\n",
    "    plt.xlabel(colName, labelpad=14)\n",
    "    plt.ylabel(\"Count\", labelpad=14)\n",
    "    plt.title(f\"The Count in the {colName} Column\")\n"
   ]
  },
  {
   "cell_type": "code",
   "execution_count": 16,
   "metadata": {},
   "outputs": [
    {
     "data": {
      "image/png": "[encoded data removed]",
      "text/plain": [
       "<Figure size 700x600 with 1 Axes>"
      ]
     },
     "metadata": {},
     "output_type": "display_data"
    }
   ],
   "source": [
    "makeHistValueCount(cleanedDF, 'Mileage')"
   ]
  },
  {
   "cell_type": "code",
   "execution_count": 17,
   "metadata": {},
   "outputs": [
    {
     "data": {
      "image/png": "[encoded data removed]",
      "text/plain": [
       "<Figure size 700x600 with 1 Axes>"
      ]
     },
     "metadata": {},
     "output_type": "display_data"
    }
   ],
   "source": [
    "makeHistValueCount(cleanedDF, 'Price')"
   ]
  },
  {
   "cell_type": "code",
   "execution_count": 18,
   "metadata": {},
   "outputs": [],
   "source": [
    "def getLabelList(n):\n",
    "    labelList =[]\n",
    "    for i in range(n):\n",
    "        labelList.append(i)\n",
    "    return labelList\n"
   ]
  },
  {
   "cell_type": "code",
   "execution_count": 19,
   "metadata": {},
   "outputs": [
    {
     "data": {
      "text/plain": [
       "Year\n",
       "1990    3006\n",
       "1991    2988\n",
       "1992    3048\n",
       "1993    2975\n",
       "1994    3090\n",
       "1995    3013\n",
       "1996    2993\n",
       "1997    3002\n",
       "1998    3112\n",
       "1999    3071\n",
       "2000    3024\n",
       "2001    2911\n",
       "2002    3061\n",
       "2003    2968\n",
       "2004    3072\n",
       "2005    3018\n",
       "2006    2980\n",
       "2007    2979\n",
       "2008    3096\n",
       "2009    3041\n",
       "2010    3025\n",
       "2011    2996\n",
       "2012    3057\n",
       "2013    3022\n",
       "2014    3114\n",
       "2015    3022\n",
       "2016    3008\n",
       "2017    3187\n",
       "2018    2904\n",
       "2019    2986\n",
       "2020    3082\n",
       "2021    3070\n",
       "2022    3079\n",
       "dtype: int64"
      ]
     },
     "execution_count": 19,
     "metadata": {},
     "output_type": "execute_result"
    }
   ],
   "source": [
    "yearGroup = cleanedDF.groupby(\"Year\").size()\n",
    "\n",
    "yearGroup\n"
   ]
  },
  {
   "cell_type": "code",
   "execution_count": 20,
   "metadata": {},
   "outputs": [
    {
     "name": "stdout",
     "output_type": "stream",
     "text": [
      "[1990, 1991, 1992, 1993, 1994, 1995, 1996, 1997, 1998, 1999, 2000, 2001, 2002, 2003, 2004, 2005, 2006, 2007, 2008, 2009, 2010, 2011, 2012, 2013, 2014, 2015, 2016, 2017, 2018, 2019, 2020, 2021, 2022]\n"
     ]
    }
   ],
   "source": [
    "def yearList():\n",
    "    yearList = []\n",
    "    for i in range(1990, 2023):\n",
    "        yearList.append(i)\n",
    "    return yearList\n",
    "print(yearList())"
   ]
  },
  {
   "cell_type": "code",
   "execution_count": 21,
   "metadata": {},
   "outputs": [],
   "source": [
    "yearList = yearList()\n",
    "imputedDF = cleanedDF\n",
    "imputedDF['Year'] = imputedDF['Year'].replace(yearList, getLabelList(len(yearList)))"
   ]
  },
  {
   "cell_type": "code",
   "execution_count": 22,
   "metadata": {},
   "outputs": [
    {
     "data": {
      "text/html": [
       "<div>\n",
       "<style scoped>\n",
       "    .dataframe tbody tr th:only-of-type {\n",
       "        vertical-align: middle;\n",
       "    }\n",
       "\n",
       "    .dataframe tbody tr th {\n",
       "        vertical-align: top;\n",
       "    }\n",
       "\n",
       "    .dataframe thead th {\n",
       "        text-align: right;\n",
       "    }\n",
       "</style>\n",
       "<table border=\"1\" class=\"dataframe\">\n",
       "  <thead>\n",
       "    <tr style=\"text-align: right;\">\n",
       "      <th></th>\n",
       "      <th>Brand</th>\n",
       "      <th>Model</th>\n",
       "      <th>Year</th>\n",
       "      <th>Color</th>\n",
       "      <th>Mileage</th>\n",
       "      <th>Price</th>\n",
       "      <th>Condition</th>\n",
       "    </tr>\n",
       "  </thead>\n",
       "  <tbody>\n",
       "    <tr>\n",
       "      <th>0</th>\n",
       "      <td>Mazda</td>\n",
       "      <td>Generic Model 3</td>\n",
       "      <td>13</td>\n",
       "      <td>Blue</td>\n",
       "      <td>22932</td>\n",
       "      <td>65732</td>\n",
       "      <td>New</td>\n",
       "    </tr>\n",
       "    <tr>\n",
       "      <th>1</th>\n",
       "      <td>Jaguar</td>\n",
       "      <td>Generic Model 2</td>\n",
       "      <td>13</td>\n",
       "      <td>Silver</td>\n",
       "      <td>89937</td>\n",
       "      <td>58620</td>\n",
       "      <td>New</td>\n",
       "    </tr>\n",
       "    <tr>\n",
       "      <th>2</th>\n",
       "      <td>Land Rover</td>\n",
       "      <td>Generic Model 2</td>\n",
       "      <td>32</td>\n",
       "      <td>Green</td>\n",
       "      <td>36616</td>\n",
       "      <td>50574</td>\n",
       "      <td>New</td>\n",
       "    </tr>\n",
       "    <tr>\n",
       "      <th>3</th>\n",
       "      <td>Porsche</td>\n",
       "      <td>Generic Model 2</td>\n",
       "      <td>7</td>\n",
       "      <td>Black</td>\n",
       "      <td>82812</td>\n",
       "      <td>35436</td>\n",
       "      <td>Used</td>\n",
       "    </tr>\n",
       "    <tr>\n",
       "      <th>4</th>\n",
       "      <td>Land Rover</td>\n",
       "      <td>Generic Model 3</td>\n",
       "      <td>10</td>\n",
       "      <td>Black</td>\n",
       "      <td>184616</td>\n",
       "      <td>63880</td>\n",
       "      <td>Used</td>\n",
       "    </tr>\n",
       "  </tbody>\n",
       "</table>\n",
       "</div>"
      ],
      "text/plain": [
       "        Brand            Model  Year   Color  Mileage  Price Condition\n",
       "0       Mazda  Generic Model 3    13    Blue    22932  65732       New\n",
       "1      Jaguar  Generic Model 2    13  Silver    89937  58620       New\n",
       "2  Land Rover  Generic Model 2    32   Green    36616  50574       New\n",
       "3     Porsche  Generic Model 2     7   Black    82812  35436      Used\n",
       "4  Land Rover  Generic Model 3    10   Black   184616  63880      Used"
      ]
     },
     "execution_count": 22,
     "metadata": {},
     "output_type": "execute_result"
    }
   ],
   "source": [
    "imputedDF.head()"
   ]
  },
  {
   "cell_type": "code",
   "execution_count": 23,
   "metadata": {},
   "outputs": [],
   "source": [
    "conditionList = ['Used','New']\n",
    "imputedDF['Condition'] = imputedDF['Condition'].replace(conditionList, getLabelList(len(conditionList)))"
   ]
  },
  {
   "cell_type": "code",
   "execution_count": 24,
   "metadata": {},
   "outputs": [
    {
     "data": {
      "text/html": [
       "<div>\n",
       "<style scoped>\n",
       "    .dataframe tbody tr th:only-of-type {\n",
       "        vertical-align: middle;\n",
       "    }\n",
       "\n",
       "    .dataframe tbody tr th {\n",
       "        vertical-align: top;\n",
       "    }\n",
       "\n",
       "    .dataframe thead th {\n",
       "        text-align: right;\n",
       "    }\n",
       "</style>\n",
       "<table border=\"1\" class=\"dataframe\">\n",
       "  <thead>\n",
       "    <tr style=\"text-align: right;\">\n",
       "      <th></th>\n",
       "      <th>Brand</th>\n",
       "      <th>Model</th>\n",
       "      <th>Year</th>\n",
       "      <th>Color</th>\n",
       "      <th>Mileage</th>\n",
       "      <th>Price</th>\n",
       "      <th>Condition</th>\n",
       "    </tr>\n",
       "  </thead>\n",
       "  <tbody>\n",
       "    <tr>\n",
       "      <th>0</th>\n",
       "      <td>Mazda</td>\n",
       "      <td>Generic Model 3</td>\n",
       "      <td>13</td>\n",
       "      <td>Blue</td>\n",
       "      <td>22932</td>\n",
       "      <td>65732</td>\n",
       "      <td>1</td>\n",
       "    </tr>\n",
       "    <tr>\n",
       "      <th>1</th>\n",
       "      <td>Jaguar</td>\n",
       "      <td>Generic Model 2</td>\n",
       "      <td>13</td>\n",
       "      <td>Silver</td>\n",
       "      <td>89937</td>\n",
       "      <td>58620</td>\n",
       "      <td>1</td>\n",
       "    </tr>\n",
       "    <tr>\n",
       "      <th>2</th>\n",
       "      <td>Land Rover</td>\n",
       "      <td>Generic Model 2</td>\n",
       "      <td>32</td>\n",
       "      <td>Green</td>\n",
       "      <td>36616</td>\n",
       "      <td>50574</td>\n",
       "      <td>1</td>\n",
       "    </tr>\n",
       "    <tr>\n",
       "      <th>3</th>\n",
       "      <td>Porsche</td>\n",
       "      <td>Generic Model 2</td>\n",
       "      <td>7</td>\n",
       "      <td>Black</td>\n",
       "      <td>82812</td>\n",
       "      <td>35436</td>\n",
       "      <td>0</td>\n",
       "    </tr>\n",
       "    <tr>\n",
       "      <th>4</th>\n",
       "      <td>Land Rover</td>\n",
       "      <td>Generic Model 3</td>\n",
       "      <td>10</td>\n",
       "      <td>Black</td>\n",
       "      <td>184616</td>\n",
       "      <td>63880</td>\n",
       "      <td>0</td>\n",
       "    </tr>\n",
       "  </tbody>\n",
       "</table>\n",
       "</div>"
      ],
      "text/plain": [
       "        Brand            Model  Year   Color  Mileage  Price  Condition\n",
       "0       Mazda  Generic Model 3    13    Blue    22932  65732          1\n",
       "1      Jaguar  Generic Model 2    13  Silver    89937  58620          1\n",
       "2  Land Rover  Generic Model 2    32   Green    36616  50574          1\n",
       "3     Porsche  Generic Model 2     7   Black    82812  35436          0\n",
       "4  Land Rover  Generic Model 3    10   Black   184616  63880          0"
      ]
     },
     "execution_count": 24,
     "metadata": {},
     "output_type": "execute_result"
    }
   ],
   "source": [
    "imputedDF.head()"
   ]
  },
  {
   "cell_type": "code",
   "execution_count": 25,
   "metadata": {},
   "outputs": [
    {
     "name": "stderr",
     "output_type": "stream",
     "text": [
      "c:\\Users\\brayj\\anaconda3\\Lib\\site-packages\\sklearn\\preprocessing\\_encoders.py:972: FutureWarning: `sparse` was renamed to `sparse_output` in version 1.2 and will be removed in 1.4. `sparse_output` is ignored unless you leave `sparse` to its default value.\n",
      "  warnings.warn(\n"
     ]
    }
   ],
   "source": [
    "from sklearn.compose import ColumnTransformer\n",
    "from sklearn.preprocessing import OneHotEncoder\n",
    "import pandas as pd\n",
    "\n",
    "columnsToEncode = ['Brand', 'Color', 'Model']\n",
    "\n",
    "# Creating a ColumnTransformer with OneHotEncoder for specified columns\n",
    "preprocessor = ColumnTransformer(\n",
    "    transformers=[('onehot', OneHotEncoder(sparse=False), columnsToEncode)],remainder='drop')\n",
    "\n",
    "# Perform one-hot encoding on the specified columns\n",
    "encodedData = preprocessor.fit_transform(imputedDF)\n",
    "\n",
    "# Convert the result back to a DataFrame\n",
    "encodedDF = pd.DataFrame(encodedData, columns=list(preprocessor.get_feature_names_out()))\n",
    "\n",
    "# Drop the original columns from the DataFrame\n",
    "cleanedDF = imputedDF.drop(columns=columnsToEncode)\n",
    "\n",
    "# Concatenate the cleaned DataFrame and the one-hot encoded DataFrame \n",
    "cleanedDF = pd.concat([cleanedDF, encodedDF], axis=1)"
   ]
  },
  {
   "cell_type": "code",
   "execution_count": 26,
   "metadata": {},
   "outputs": [
    {
     "data": {
      "text/html": [
       "<div>\n",
       "<style scoped>\n",
       "    .dataframe tbody tr th:only-of-type {\n",
       "        vertical-align: middle;\n",
       "    }\n",
       "\n",
       "    .dataframe tbody tr th {\n",
       "        vertical-align: top;\n",
       "    }\n",
       "\n",
       "    .dataframe thead th {\n",
       "        text-align: right;\n",
       "    }\n",
       "</style>\n",
       "<table border=\"1\" class=\"dataframe\">\n",
       "  <thead>\n",
       "    <tr style=\"text-align: right;\">\n",
       "      <th></th>\n",
       "      <th>Year</th>\n",
       "      <th>Mileage</th>\n",
       "      <th>Price</th>\n",
       "      <th>Condition</th>\n",
       "      <th>onehot__Brand_Audi</th>\n",
       "      <th>onehot__Brand_BMW</th>\n",
       "      <th>onehot__Brand_Chevrolet</th>\n",
       "      <th>onehot__Brand_Ford</th>\n",
       "      <th>onehot__Brand_Honda</th>\n",
       "      <th>onehot__Brand_Hyundai</th>\n",
       "      <th>...</th>\n",
       "      <th>onehot__Model_Generic Model 1</th>\n",
       "      <th>onehot__Model_Generic Model 2</th>\n",
       "      <th>onehot__Model_Generic Model 3</th>\n",
       "      <th>onehot__Model_Highlander</th>\n",
       "      <th>onehot__Model_Mustang</th>\n",
       "      <th>onehot__Model_Odyssey</th>\n",
       "      <th>onehot__Model_Pilot</th>\n",
       "      <th>onehot__Model_Prius</th>\n",
       "      <th>onehot__Model_RAV4</th>\n",
       "      <th>onehot__Model_Tacoma</th>\n",
       "    </tr>\n",
       "  </thead>\n",
       "  <tbody>\n",
       "    <tr>\n",
       "      <th>0</th>\n",
       "      <td>13</td>\n",
       "      <td>22932</td>\n",
       "      <td>65732</td>\n",
       "      <td>1</td>\n",
       "      <td>0.0</td>\n",
       "      <td>0.0</td>\n",
       "      <td>0.0</td>\n",
       "      <td>0.0</td>\n",
       "      <td>0.0</td>\n",
       "      <td>0.0</td>\n",
       "      <td>...</td>\n",
       "      <td>0.0</td>\n",
       "      <td>0.0</td>\n",
       "      <td>1.0</td>\n",
       "      <td>0.0</td>\n",
       "      <td>0.0</td>\n",
       "      <td>0.0</td>\n",
       "      <td>0.0</td>\n",
       "      <td>0.0</td>\n",
       "      <td>0.0</td>\n",
       "      <td>0.0</td>\n",
       "    </tr>\n",
       "    <tr>\n",
       "      <th>1</th>\n",
       "      <td>13</td>\n",
       "      <td>89937</td>\n",
       "      <td>58620</td>\n",
       "      <td>1</td>\n",
       "      <td>0.0</td>\n",
       "      <td>0.0</td>\n",
       "      <td>0.0</td>\n",
       "      <td>0.0</td>\n",
       "      <td>0.0</td>\n",
       "      <td>0.0</td>\n",
       "      <td>...</td>\n",
       "      <td>0.0</td>\n",
       "      <td>1.0</td>\n",
       "      <td>0.0</td>\n",
       "      <td>0.0</td>\n",
       "      <td>0.0</td>\n",
       "      <td>0.0</td>\n",
       "      <td>0.0</td>\n",
       "      <td>0.0</td>\n",
       "      <td>0.0</td>\n",
       "      <td>0.0</td>\n",
       "    </tr>\n",
       "    <tr>\n",
       "      <th>2</th>\n",
       "      <td>32</td>\n",
       "      <td>36616</td>\n",
       "      <td>50574</td>\n",
       "      <td>1</td>\n",
       "      <td>0.0</td>\n",
       "      <td>0.0</td>\n",
       "      <td>0.0</td>\n",
       "      <td>0.0</td>\n",
       "      <td>0.0</td>\n",
       "      <td>0.0</td>\n",
       "      <td>...</td>\n",
       "      <td>0.0</td>\n",
       "      <td>1.0</td>\n",
       "      <td>0.0</td>\n",
       "      <td>0.0</td>\n",
       "      <td>0.0</td>\n",
       "      <td>0.0</td>\n",
       "      <td>0.0</td>\n",
       "      <td>0.0</td>\n",
       "      <td>0.0</td>\n",
       "      <td>0.0</td>\n",
       "    </tr>\n",
       "    <tr>\n",
       "      <th>3</th>\n",
       "      <td>7</td>\n",
       "      <td>82812</td>\n",
       "      <td>35436</td>\n",
       "      <td>0</td>\n",
       "      <td>0.0</td>\n",
       "      <td>0.0</td>\n",
       "      <td>0.0</td>\n",
       "      <td>0.0</td>\n",
       "      <td>0.0</td>\n",
       "      <td>0.0</td>\n",
       "      <td>...</td>\n",
       "      <td>0.0</td>\n",
       "      <td>1.0</td>\n",
       "      <td>0.0</td>\n",
       "      <td>0.0</td>\n",
       "      <td>0.0</td>\n",
       "      <td>0.0</td>\n",
       "      <td>0.0</td>\n",
       "      <td>0.0</td>\n",
       "      <td>0.0</td>\n",
       "      <td>0.0</td>\n",
       "    </tr>\n",
       "    <tr>\n",
       "      <th>4</th>\n",
       "      <td>10</td>\n",
       "      <td>184616</td>\n",
       "      <td>63880</td>\n",
       "      <td>0</td>\n",
       "      <td>0.0</td>\n",
       "      <td>0.0</td>\n",
       "      <td>0.0</td>\n",
       "      <td>0.0</td>\n",
       "      <td>0.0</td>\n",
       "      <td>0.0</td>\n",
       "      <td>...</td>\n",
       "      <td>0.0</td>\n",
       "      <td>0.0</td>\n",
       "      <td>1.0</td>\n",
       "      <td>0.0</td>\n",
       "      <td>0.0</td>\n",
       "      <td>0.0</td>\n",
       "      <td>0.0</td>\n",
       "      <td>0.0</td>\n",
       "      <td>0.0</td>\n",
       "      <td>0.0</td>\n",
       "    </tr>\n",
       "  </tbody>\n",
       "</table>\n",
       "<p>5 rows × 51 columns</p>\n",
       "</div>"
      ],
      "text/plain": [
       "   Year  Mileage  Price  Condition  onehot__Brand_Audi  onehot__Brand_BMW  \\\n",
       "0    13    22932  65732          1                 0.0                0.0   \n",
       "1    13    89937  58620          1                 0.0                0.0   \n",
       "2    32    36616  50574          1                 0.0                0.0   \n",
       "3     7    82812  35436          0                 0.0                0.0   \n",
       "4    10   184616  63880          0                 0.0                0.0   \n",
       "\n",
       "   onehot__Brand_Chevrolet  onehot__Brand_Ford  onehot__Brand_Honda  \\\n",
       "0                      0.0                 0.0                  0.0   \n",
       "1                      0.0                 0.0                  0.0   \n",
       "2                      0.0                 0.0                  0.0   \n",
       "3                      0.0                 0.0                  0.0   \n",
       "4                      0.0                 0.0                  0.0   \n",
       "\n",
       "   onehot__Brand_Hyundai  ...  onehot__Model_Generic Model 1  \\\n",
       "0                    0.0  ...                            0.0   \n",
       "1                    0.0  ...                            0.0   \n",
       "2                    0.0  ...                            0.0   \n",
       "3                    0.0  ...                            0.0   \n",
       "4                    0.0  ...                            0.0   \n",
       "\n",
       "   onehot__Model_Generic Model 2  onehot__Model_Generic Model 3  \\\n",
       "0                            0.0                            1.0   \n",
       "1                            1.0                            0.0   \n",
       "2                            1.0                            0.0   \n",
       "3                            1.0                            0.0   \n",
       "4                            0.0                            1.0   \n",
       "\n",
       "   onehot__Model_Highlander  onehot__Model_Mustang  onehot__Model_Odyssey  \\\n",
       "0                       0.0                    0.0                    0.0   \n",
       "1                       0.0                    0.0                    0.0   \n",
       "2                       0.0                    0.0                    0.0   \n",
       "3                       0.0                    0.0                    0.0   \n",
       "4                       0.0                    0.0                    0.0   \n",
       "\n",
       "   onehot__Model_Pilot  onehot__Model_Prius  onehot__Model_RAV4  \\\n",
       "0                  0.0                  0.0                 0.0   \n",
       "1                  0.0                  0.0                 0.0   \n",
       "2                  0.0                  0.0                 0.0   \n",
       "3                  0.0                  0.0                 0.0   \n",
       "4                  0.0                  0.0                 0.0   \n",
       "\n",
       "   onehot__Model_Tacoma  \n",
       "0                   0.0  \n",
       "1                   0.0  \n",
       "2                   0.0  \n",
       "3                   0.0  \n",
       "4                   0.0  \n",
       "\n",
       "[5 rows x 51 columns]"
      ]
     },
     "execution_count": 26,
     "metadata": {},
     "output_type": "execute_result"
    }
   ],
   "source": [
    "cleanedDF.head()"
   ]
  },
  {
   "cell_type": "code",
   "execution_count": 27,
   "metadata": {},
   "outputs": [],
   "source": [
    "# Function to create box plots for each column\n",
    "import seaborn as sns\n",
    "def makeBoxPlot(aDF, col):  \n",
    "    sns.boxplot(aDF[col])\n",
    "    plt.title(f\"Box Plot of {col}\")"
   ]
  },
  {
   "cell_type": "code",
   "execution_count": 28,
   "metadata": {},
   "outputs": [
    {
     "data": {
      "image/png": "[encoded data removed]",
      "text/plain": [
       "<Figure size 640x480 with 1 Axes>"
      ]
     },
     "metadata": {},
     "output_type": "display_data"
    }
   ],
   "source": [
    "makeBoxPlot(cleanedDF,'Mileage')"
   ]
  },
  {
   "cell_type": "code",
   "execution_count": 29,
   "metadata": {},
   "outputs": [
    {
     "data": {
      "image/png": "[encoded data removed]",
      "text/plain": [
       "<Figure size 640x480 with 1 Axes>"
      ]
     },
     "metadata": {},
     "output_type": "display_data"
    }
   ],
   "source": [
    "makeBoxPlot(cleanedDF,'Price')"
   ]
  },
  {
   "cell_type": "code",
   "execution_count": 30,
   "metadata": {},
   "outputs": [
    {
     "data": {
      "text/html": [
       "<div>\n",
       "<style scoped>\n",
       "    .dataframe tbody tr th:only-of-type {\n",
       "        vertical-align: middle;\n",
       "    }\n",
       "\n",
       "    .dataframe tbody tr th {\n",
       "        vertical-align: top;\n",
       "    }\n",
       "\n",
       "    .dataframe thead th {\n",
       "        text-align: right;\n",
       "    }\n",
       "</style>\n",
       "<table border=\"1\" class=\"dataframe\">\n",
       "  <thead>\n",
       "    <tr style=\"text-align: right;\">\n",
       "      <th></th>\n",
       "      <th>Year</th>\n",
       "      <th>Mileage</th>\n",
       "      <th>Price</th>\n",
       "      <th>Condition</th>\n",
       "      <th>onehot__Brand_Audi</th>\n",
       "      <th>onehot__Brand_BMW</th>\n",
       "      <th>onehot__Brand_Chevrolet</th>\n",
       "      <th>onehot__Brand_Ford</th>\n",
       "      <th>onehot__Brand_Honda</th>\n",
       "      <th>onehot__Brand_Hyundai</th>\n",
       "      <th>...</th>\n",
       "      <th>onehot__Model_Generic Model 1</th>\n",
       "      <th>onehot__Model_Generic Model 2</th>\n",
       "      <th>onehot__Model_Generic Model 3</th>\n",
       "      <th>onehot__Model_Highlander</th>\n",
       "      <th>onehot__Model_Mustang</th>\n",
       "      <th>onehot__Model_Odyssey</th>\n",
       "      <th>onehot__Model_Pilot</th>\n",
       "      <th>onehot__Model_Prius</th>\n",
       "      <th>onehot__Model_RAV4</th>\n",
       "      <th>onehot__Model_Tacoma</th>\n",
       "    </tr>\n",
       "  </thead>\n",
       "  <tbody>\n",
       "    <tr>\n",
       "      <th>0</th>\n",
       "      <td>13</td>\n",
       "      <td>0.114652</td>\n",
       "      <td>0.809760</td>\n",
       "      <td>1</td>\n",
       "      <td>0.0</td>\n",
       "      <td>0.0</td>\n",
       "      <td>0.0</td>\n",
       "      <td>0.0</td>\n",
       "      <td>0.0</td>\n",
       "      <td>0.0</td>\n",
       "      <td>...</td>\n",
       "      <td>0.0</td>\n",
       "      <td>0.0</td>\n",
       "      <td>1.0</td>\n",
       "      <td>0.0</td>\n",
       "      <td>0.0</td>\n",
       "      <td>0.0</td>\n",
       "      <td>0.0</td>\n",
       "      <td>0.0</td>\n",
       "      <td>0.0</td>\n",
       "      <td>0.0</td>\n",
       "    </tr>\n",
       "    <tr>\n",
       "      <th>1</th>\n",
       "      <td>13</td>\n",
       "      <td>0.449684</td>\n",
       "      <td>0.714933</td>\n",
       "      <td>1</td>\n",
       "      <td>0.0</td>\n",
       "      <td>0.0</td>\n",
       "      <td>0.0</td>\n",
       "      <td>0.0</td>\n",
       "      <td>0.0</td>\n",
       "      <td>0.0</td>\n",
       "      <td>...</td>\n",
       "      <td>0.0</td>\n",
       "      <td>1.0</td>\n",
       "      <td>0.0</td>\n",
       "      <td>0.0</td>\n",
       "      <td>0.0</td>\n",
       "      <td>0.0</td>\n",
       "      <td>0.0</td>\n",
       "      <td>0.0</td>\n",
       "      <td>0.0</td>\n",
       "      <td>0.0</td>\n",
       "    </tr>\n",
       "    <tr>\n",
       "      <th>2</th>\n",
       "      <td>32</td>\n",
       "      <td>0.183074</td>\n",
       "      <td>0.607653</td>\n",
       "      <td>1</td>\n",
       "      <td>0.0</td>\n",
       "      <td>0.0</td>\n",
       "      <td>0.0</td>\n",
       "      <td>0.0</td>\n",
       "      <td>0.0</td>\n",
       "      <td>0.0</td>\n",
       "      <td>...</td>\n",
       "      <td>0.0</td>\n",
       "      <td>1.0</td>\n",
       "      <td>0.0</td>\n",
       "      <td>0.0</td>\n",
       "      <td>0.0</td>\n",
       "      <td>0.0</td>\n",
       "      <td>0.0</td>\n",
       "      <td>0.0</td>\n",
       "      <td>0.0</td>\n",
       "      <td>0.0</td>\n",
       "    </tr>\n",
       "    <tr>\n",
       "      <th>3</th>\n",
       "      <td>7</td>\n",
       "      <td>0.414058</td>\n",
       "      <td>0.405813</td>\n",
       "      <td>0</td>\n",
       "      <td>0.0</td>\n",
       "      <td>0.0</td>\n",
       "      <td>0.0</td>\n",
       "      <td>0.0</td>\n",
       "      <td>0.0</td>\n",
       "      <td>0.0</td>\n",
       "      <td>...</td>\n",
       "      <td>0.0</td>\n",
       "      <td>1.0</td>\n",
       "      <td>0.0</td>\n",
       "      <td>0.0</td>\n",
       "      <td>0.0</td>\n",
       "      <td>0.0</td>\n",
       "      <td>0.0</td>\n",
       "      <td>0.0</td>\n",
       "      <td>0.0</td>\n",
       "      <td>0.0</td>\n",
       "    </tr>\n",
       "    <tr>\n",
       "      <th>4</th>\n",
       "      <td>10</td>\n",
       "      <td>0.923088</td>\n",
       "      <td>0.785067</td>\n",
       "      <td>0</td>\n",
       "      <td>0.0</td>\n",
       "      <td>0.0</td>\n",
       "      <td>0.0</td>\n",
       "      <td>0.0</td>\n",
       "      <td>0.0</td>\n",
       "      <td>0.0</td>\n",
       "      <td>...</td>\n",
       "      <td>0.0</td>\n",
       "      <td>0.0</td>\n",
       "      <td>1.0</td>\n",
       "      <td>0.0</td>\n",
       "      <td>0.0</td>\n",
       "      <td>0.0</td>\n",
       "      <td>0.0</td>\n",
       "      <td>0.0</td>\n",
       "      <td>0.0</td>\n",
       "      <td>0.0</td>\n",
       "    </tr>\n",
       "  </tbody>\n",
       "</table>\n",
       "<p>5 rows × 51 columns</p>\n",
       "</div>"
      ],
      "text/plain": [
       "   Year   Mileage     Price  Condition  onehot__Brand_Audi  onehot__Brand_BMW  \\\n",
       "0    13  0.114652  0.809760          1                 0.0                0.0   \n",
       "1    13  0.449684  0.714933          1                 0.0                0.0   \n",
       "2    32  0.183074  0.607653          1                 0.0                0.0   \n",
       "3     7  0.414058  0.405813          0                 0.0                0.0   \n",
       "4    10  0.923088  0.785067          0                 0.0                0.0   \n",
       "\n",
       "   onehot__Brand_Chevrolet  onehot__Brand_Ford  onehot__Brand_Honda  \\\n",
       "0                      0.0                 0.0                  0.0   \n",
       "1                      0.0                 0.0                  0.0   \n",
       "2                      0.0                 0.0                  0.0   \n",
       "3                      0.0                 0.0                  0.0   \n",
       "4                      0.0                 0.0                  0.0   \n",
       "\n",
       "   onehot__Brand_Hyundai  ...  onehot__Model_Generic Model 1  \\\n",
       "0                    0.0  ...                            0.0   \n",
       "1                    0.0  ...                            0.0   \n",
       "2                    0.0  ...                            0.0   \n",
       "3                    0.0  ...                            0.0   \n",
       "4                    0.0  ...                            0.0   \n",
       "\n",
       "   onehot__Model_Generic Model 2  onehot__Model_Generic Model 3  \\\n",
       "0                            0.0                            1.0   \n",
       "1                            1.0                            0.0   \n",
       "2                            1.0                            0.0   \n",
       "3                            1.0                            0.0   \n",
       "4                            0.0                            1.0   \n",
       "\n",
       "   onehot__Model_Highlander  onehot__Model_Mustang  onehot__Model_Odyssey  \\\n",
       "0                       0.0                    0.0                    0.0   \n",
       "1                       0.0                    0.0                    0.0   \n",
       "2                       0.0                    0.0                    0.0   \n",
       "3                       0.0                    0.0                    0.0   \n",
       "4                       0.0                    0.0                    0.0   \n",
       "\n",
       "   onehot__Model_Pilot  onehot__Model_Prius  onehot__Model_RAV4  \\\n",
       "0                  0.0                  0.0                 0.0   \n",
       "1                  0.0                  0.0                 0.0   \n",
       "2                  0.0                  0.0                 0.0   \n",
       "3                  0.0                  0.0                 0.0   \n",
       "4                  0.0                  0.0                 0.0   \n",
       "\n",
       "   onehot__Model_Tacoma  \n",
       "0                   0.0  \n",
       "1                   0.0  \n",
       "2                   0.0  \n",
       "3                   0.0  \n",
       "4                   0.0  \n",
       "\n",
       "[5 rows x 51 columns]"
      ]
     },
     "execution_count": 30,
     "metadata": {},
     "output_type": "execute_result"
    }
   ],
   "source": [
    "# normalization\n",
    "from sklearn.preprocessing import MinMaxScaler\n",
    "\n",
    "scaler = MinMaxScaler()\n",
    "\n",
    "# initialize the DF\n",
    "normalizedDF = cleanedDF\n",
    "\n",
    "normalizedDF[['Price','Mileage']] = scaler.fit_transform(cleanedDF[['Price','Mileage']])\n",
    "\n",
    "normalizedDF.head()"
   ]
  },
  {
   "cell_type": "code",
   "execution_count": 31,
   "metadata": {},
   "outputs": [
    {
     "data": {
      "text/html": [
       "<div>\n",
       "<style scoped>\n",
       "    .dataframe tbody tr th:only-of-type {\n",
       "        vertical-align: middle;\n",
       "    }\n",
       "\n",
       "    .dataframe tbody tr th {\n",
       "        vertical-align: top;\n",
       "    }\n",
       "\n",
       "    .dataframe thead th {\n",
       "        text-align: right;\n",
       "    }\n",
       "</style>\n",
       "<table border=\"1\" class=\"dataframe\">\n",
       "  <thead>\n",
       "    <tr style=\"text-align: right;\">\n",
       "      <th></th>\n",
       "      <th>Year</th>\n",
       "      <th>Mileage</th>\n",
       "      <th>Condition</th>\n",
       "      <th>onehot__Brand_Audi</th>\n",
       "      <th>onehot__Brand_BMW</th>\n",
       "      <th>onehot__Brand_Chevrolet</th>\n",
       "      <th>onehot__Brand_Ford</th>\n",
       "      <th>onehot__Brand_Honda</th>\n",
       "      <th>onehot__Brand_Hyundai</th>\n",
       "      <th>onehot__Brand_Jaguar</th>\n",
       "      <th>...</th>\n",
       "      <th>onehot__Model_Generic Model 1</th>\n",
       "      <th>onehot__Model_Generic Model 2</th>\n",
       "      <th>onehot__Model_Generic Model 3</th>\n",
       "      <th>onehot__Model_Highlander</th>\n",
       "      <th>onehot__Model_Mustang</th>\n",
       "      <th>onehot__Model_Odyssey</th>\n",
       "      <th>onehot__Model_Pilot</th>\n",
       "      <th>onehot__Model_Prius</th>\n",
       "      <th>onehot__Model_RAV4</th>\n",
       "      <th>onehot__Model_Tacoma</th>\n",
       "    </tr>\n",
       "  </thead>\n",
       "  <tbody>\n",
       "    <tr>\n",
       "      <th>0</th>\n",
       "      <td>13</td>\n",
       "      <td>0.114652</td>\n",
       "      <td>1</td>\n",
       "      <td>0.0</td>\n",
       "      <td>0.0</td>\n",
       "      <td>0.0</td>\n",
       "      <td>0.0</td>\n",
       "      <td>0.0</td>\n",
       "      <td>0.0</td>\n",
       "      <td>0.0</td>\n",
       "      <td>...</td>\n",
       "      <td>0.0</td>\n",
       "      <td>0.0</td>\n",
       "      <td>1.0</td>\n",
       "      <td>0.0</td>\n",
       "      <td>0.0</td>\n",
       "      <td>0.0</td>\n",
       "      <td>0.0</td>\n",
       "      <td>0.0</td>\n",
       "      <td>0.0</td>\n",
       "      <td>0.0</td>\n",
       "    </tr>\n",
       "    <tr>\n",
       "      <th>1</th>\n",
       "      <td>13</td>\n",
       "      <td>0.449684</td>\n",
       "      <td>1</td>\n",
       "      <td>0.0</td>\n",
       "      <td>0.0</td>\n",
       "      <td>0.0</td>\n",
       "      <td>0.0</td>\n",
       "      <td>0.0</td>\n",
       "      <td>0.0</td>\n",
       "      <td>1.0</td>\n",
       "      <td>...</td>\n",
       "      <td>0.0</td>\n",
       "      <td>1.0</td>\n",
       "      <td>0.0</td>\n",
       "      <td>0.0</td>\n",
       "      <td>0.0</td>\n",
       "      <td>0.0</td>\n",
       "      <td>0.0</td>\n",
       "      <td>0.0</td>\n",
       "      <td>0.0</td>\n",
       "      <td>0.0</td>\n",
       "    </tr>\n",
       "    <tr>\n",
       "      <th>2</th>\n",
       "      <td>32</td>\n",
       "      <td>0.183074</td>\n",
       "      <td>1</td>\n",
       "      <td>0.0</td>\n",
       "      <td>0.0</td>\n",
       "      <td>0.0</td>\n",
       "      <td>0.0</td>\n",
       "      <td>0.0</td>\n",
       "      <td>0.0</td>\n",
       "      <td>0.0</td>\n",
       "      <td>...</td>\n",
       "      <td>0.0</td>\n",
       "      <td>1.0</td>\n",
       "      <td>0.0</td>\n",
       "      <td>0.0</td>\n",
       "      <td>0.0</td>\n",
       "      <td>0.0</td>\n",
       "      <td>0.0</td>\n",
       "      <td>0.0</td>\n",
       "      <td>0.0</td>\n",
       "      <td>0.0</td>\n",
       "    </tr>\n",
       "    <tr>\n",
       "      <th>3</th>\n",
       "      <td>7</td>\n",
       "      <td>0.414058</td>\n",
       "      <td>0</td>\n",
       "      <td>0.0</td>\n",
       "      <td>0.0</td>\n",
       "      <td>0.0</td>\n",
       "      <td>0.0</td>\n",
       "      <td>0.0</td>\n",
       "      <td>0.0</td>\n",
       "      <td>0.0</td>\n",
       "      <td>...</td>\n",
       "      <td>0.0</td>\n",
       "      <td>1.0</td>\n",
       "      <td>0.0</td>\n",
       "      <td>0.0</td>\n",
       "      <td>0.0</td>\n",
       "      <td>0.0</td>\n",
       "      <td>0.0</td>\n",
       "      <td>0.0</td>\n",
       "      <td>0.0</td>\n",
       "      <td>0.0</td>\n",
       "    </tr>\n",
       "    <tr>\n",
       "      <th>4</th>\n",
       "      <td>10</td>\n",
       "      <td>0.923088</td>\n",
       "      <td>0</td>\n",
       "      <td>0.0</td>\n",
       "      <td>0.0</td>\n",
       "      <td>0.0</td>\n",
       "      <td>0.0</td>\n",
       "      <td>0.0</td>\n",
       "      <td>0.0</td>\n",
       "      <td>0.0</td>\n",
       "      <td>...</td>\n",
       "      <td>0.0</td>\n",
       "      <td>0.0</td>\n",
       "      <td>1.0</td>\n",
       "      <td>0.0</td>\n",
       "      <td>0.0</td>\n",
       "      <td>0.0</td>\n",
       "      <td>0.0</td>\n",
       "      <td>0.0</td>\n",
       "      <td>0.0</td>\n",
       "      <td>0.0</td>\n",
       "    </tr>\n",
       "  </tbody>\n",
       "</table>\n",
       "<p>5 rows × 50 columns</p>\n",
       "</div>"
      ],
      "text/plain": [
       "   Year   Mileage  Condition  onehot__Brand_Audi  onehot__Brand_BMW  \\\n",
       "0    13  0.114652          1                 0.0                0.0   \n",
       "1    13  0.449684          1                 0.0                0.0   \n",
       "2    32  0.183074          1                 0.0                0.0   \n",
       "3     7  0.414058          0                 0.0                0.0   \n",
       "4    10  0.923088          0                 0.0                0.0   \n",
       "\n",
       "   onehot__Brand_Chevrolet  onehot__Brand_Ford  onehot__Brand_Honda  \\\n",
       "0                      0.0                 0.0                  0.0   \n",
       "1                      0.0                 0.0                  0.0   \n",
       "2                      0.0                 0.0                  0.0   \n",
       "3                      0.0                 0.0                  0.0   \n",
       "4                      0.0                 0.0                  0.0   \n",
       "\n",
       "   onehot__Brand_Hyundai  onehot__Brand_Jaguar  ...  \\\n",
       "0                    0.0                   0.0  ...   \n",
       "1                    0.0                   1.0  ...   \n",
       "2                    0.0                   0.0  ...   \n",
       "3                    0.0                   0.0  ...   \n",
       "4                    0.0                   0.0  ...   \n",
       "\n",
       "   onehot__Model_Generic Model 1  onehot__Model_Generic Model 2  \\\n",
       "0                            0.0                            0.0   \n",
       "1                            0.0                            1.0   \n",
       "2                            0.0                            1.0   \n",
       "3                            0.0                            1.0   \n",
       "4                            0.0                            0.0   \n",
       "\n",
       "   onehot__Model_Generic Model 3  onehot__Model_Highlander  \\\n",
       "0                            1.0                       0.0   \n",
       "1                            0.0                       0.0   \n",
       "2                            0.0                       0.0   \n",
       "3                            0.0                       0.0   \n",
       "4                            1.0                       0.0   \n",
       "\n",
       "   onehot__Model_Mustang  onehot__Model_Odyssey  onehot__Model_Pilot  \\\n",
       "0                    0.0                    0.0                  0.0   \n",
       "1                    0.0                    0.0                  0.0   \n",
       "2                    0.0                    0.0                  0.0   \n",
       "3                    0.0                    0.0                  0.0   \n",
       "4                    0.0                    0.0                  0.0   \n",
       "\n",
       "   onehot__Model_Prius  onehot__Model_RAV4  onehot__Model_Tacoma  \n",
       "0                  0.0                 0.0                   0.0  \n",
       "1                  0.0                 0.0                   0.0  \n",
       "2                  0.0                 0.0                   0.0  \n",
       "3                  0.0                 0.0                   0.0  \n",
       "4                  0.0                 0.0                   0.0  \n",
       "\n",
       "[5 rows x 50 columns]"
      ]
     },
     "execution_count": 31,
     "metadata": {},
     "output_type": "execute_result"
    }
   ],
   "source": [
    "xDF = normalizedDF.drop('Price', axis=1)\n",
    "xDF.head()"
   ]
  },
  {
   "cell_type": "code",
   "execution_count": 32,
   "metadata": {},
   "outputs": [
    {
     "data": {
      "text/plain": [
       "0    0.809760\n",
       "1    0.714933\n",
       "2    0.607653\n",
       "3    0.405813\n",
       "4    0.785067\n",
       "Name: Price, dtype: float64"
      ]
     },
     "execution_count": 32,
     "metadata": {},
     "output_type": "execute_result"
    }
   ],
   "source": [
    "yDF = normalizedDF['Price']\n",
    "yDF.head()\n"
   ]
  },
  {
   "cell_type": "code",
   "execution_count": 33,
   "metadata": {},
   "outputs": [
    {
     "data": {
      "text/plain": [
       "99995    0.356827\n",
       "99996    0.978347\n",
       "99997    0.542413\n",
       "99998    0.134467\n",
       "99999    0.238213\n",
       "Name: Price, dtype: float64"
      ]
     },
     "execution_count": 33,
     "metadata": {},
     "output_type": "execute_result"
    }
   ],
   "source": [
    "yDF.tail()"
   ]
  },
  {
   "cell_type": "code",
   "execution_count": 34,
   "metadata": {},
   "outputs": [],
   "source": [
    "# Initialize and split data for model\n",
    "from sklearn.linear_model import LinearRegression\n",
    "from sklearn.model_selection import train_test_split\n",
    "\n",
    "xTrain, xTest, yTrain, yTest = train_test_split(xDF, \n",
    "                                                yDF, \n",
    "                                                test_size=0.33)\n",
    "\n",
    "model = LinearRegression().fit(xTrain, yTrain)"
   ]
  },
  {
   "cell_type": "code",
   "execution_count": 35,
   "metadata": {},
   "outputs": [],
   "source": [
    "yTrainPred = model.predict(xTrain)\n",
    "\n",
    "yTestPred = model.predict(xTest)\n"
   ]
  },
  {
   "cell_type": "code",
   "execution_count": 36,
   "metadata": {},
   "outputs": [
    {
     "name": "stdout",
     "output_type": "stream",
     "text": [
      "R2 Score on Training Set: 0.0006974109121486993\n",
      "R2 Score on Testing Set: -0.0007561226724965842\n"
     ]
    }
   ],
   "source": [
    "'''\n",
    "This model has too much variance, since it performs \n",
    "much better on the training set.\n",
    "'''\n",
    "from sklearn.metrics import r2_score\n",
    "\n",
    "r2_train = r2_score(yTrain, yTrainPred)\n",
    "print(f\"R2 Score on Training Set: {r2_train}\")\n",
    "\n",
    "r2_test = r2_score(yTest, yTestPred)\n",
    "print(f\"R2 Score on Testing Set: {r2_test}\")"
   ]
  },
  {
   "cell_type": "code",
   "execution_count": 37,
   "metadata": {},
   "outputs": [
    {
     "name": "stdout",
     "output_type": "stream",
     "text": [
      "Mean Absolute Error on Training Set: 0.2495332097630667\n",
      "Mean Absolute Error on Testing Set: 0.24963725142894708\n"
     ]
    }
   ],
   "source": [
    "'''\n",
    "This model model seems to have a little variance, since\n",
    "it performs slightly better on the training set.\n",
    "'''\n",
    "from sklearn.metrics import mean_absolute_error\n",
    "\n",
    "mae_train = mean_absolute_error(yTrain, yTrainPred)\n",
    "print(f\"Mean Absolute Error on Training Set: {mae_train}\")\n",
    "\n",
    "mae_test = mean_absolute_error(yTest, yTestPred)\n",
    "print(f\"Mean Absolute Error on Testing Set: {mae_test}\")"
   ]
  },
  {
   "cell_type": "code",
   "execution_count": 38,
   "metadata": {},
   "outputs": [
    {
     "name": "stdout",
     "output_type": "stream",
     "text": [
      "Mean Squared Error on Training Set: 0.0831271855259328\n",
      "Mean Squared Error on Testing Set: 0.0832664975353601\n"
     ]
    }
   ],
   "source": [
    "'''\n",
    "This model seem to have a little variance, since\n",
    "it performs slightly better on the training set.\n",
    "'''\n",
    "from sklearn.metrics import mean_squared_error\n",
    "\n",
    "mse_train = mean_squared_error(yTrain, yTrainPred)\n",
    "print(f\"Mean Squared Error on Training Set: {mse_train}\")\n",
    "\n",
    "mse_test = mean_squared_error(yTest, yTestPred)\n",
    "print(f\"Mean Squared Error on Testing Set: {mse_test}\")"
   ]
  }
 ],
 "metadata": {
  "kernelspec": {
   "display_name": "base",
   "language": "python",
   "name": "python3"
  },
  "language_info": {
   "codemirror_mode": {
    "name": "ipython",
    "version": 3
   },
   "file_extension": ".py",
   "mimetype": "text/x-python",
   "name": "python",
   "nbconvert_exporter": "python",
   "pygments_lexer": "ipython3",
   "version": "3.11.5"
  }
 },
 "nbformat": 4,
 "nbformat_minor": 2
}
